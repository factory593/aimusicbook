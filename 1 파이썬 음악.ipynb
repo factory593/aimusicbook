{
 "cells": [
  {
   "cell_type": "markdown",
   "id": "ba2ef493",
   "metadata": {},
   "source": [
    "# 파이썬 음악\n",
    "저자 온석대학원대학교 인공지능음악 전공 지도교수 최영준"
   ]
  },
  {
   "cell_type": "markdown",
   "id": "d6f8c5bb",
   "metadata": {},
   "source": [
    "주제: 파이썬으로 음악을 만드는 기초 과정\n",
    "온석대학원 대학교 인공지능음악과정 의 인공지능 음악 실습 수업 자료 입니다.\n",
    "(c)2020 저작권은 온석대학원 대학교 인공지능 음악과정 지도 교수 최영준에게 있습니다. \n",
    "수업시간이나 개인적인 목적으로 사용하실때 출처를 밝히고 사용하는것은 상관없지만.\n",
    "무단 도용은 금지 합니다."
   ]
  },
  {
   "cell_type": "markdown",
   "id": "489c8f36",
   "metadata": {},
   "source": [
    "## 노트 그리기 "
   ]
  },
  {
   "cell_type": "markdown",
   "id": "6c1992ab",
   "metadata": {},
   "source": [
    "우리에게 필요한 건 MIT의 MUSIC21 라이브러리입니다.\n",
    " muisic21로 부터 모든 것 * 을 불러옵니다(import)\n"
   ]
  },
  {
   "cell_type": "code",
   "execution_count": 2,
   "id": "e5904e49",
   "metadata": {},
   "outputs": [],
   "source": [
    "from music21 import *"
   ]
  },
  {
   "cell_type": "markdown",
   "id": "94dfba6e",
   "metadata": {},
   "source": [
    "한개의 노트를 표시 하겠습니다.\n",
    "C4이며 음의 길이는 4분 음표입니다.\n",
    "음악에서 중요한 두가지는 음의 높이와 길이입니다.\n",
    "꾸밈음, 장식음은 위의 두가지를 충족한후에 말그대로 장식하고 꾸미는 것이니 나중에 고려하면 어떨까요?"
   ]
  },
  {
   "cell_type": "code",
   "execution_count": 3,
   "id": "444095aa",
   "metadata": {},
   "outputs": [],
   "source": [
    "note1 = note.Note(\"C4\")\n",
    "note1.duration.type = \"quarter\""
   ]
  },
  {
   "cell_type": "markdown",
   "id": "5932ae5e",
   "metadata": {},
   "source": [
    "노트를 표시 합니다"
   ]
  },
  {
   "cell_type": "code",
   "execution_count": 4,
   "id": "5a8c2d42",
   "metadata": {},
   "outputs": [
    {
     "data": {
      "image/png": "[encoded data removed]",
      "text/plain": [
       "<IPython.core.display.Image object>"
      ]
     },
     "metadata": {
      "image/png": {
       "height": 49,
       "width": 196
      }
     },
     "output_type": "display_data"
    }
   ],
   "source": [
    "note1.show()"
   ]
  },
  {
   "cell_type": "markdown",
   "id": "6f2c1aa9",
   "metadata": {},
   "source": [
    "note1을 재생할수 있는 미디 형식으로 만든 후 재생할 수 있게 합니다. Play 버튼을 눌러 봅시다. \n",
    "방금 만들어진 노트가 재생됩니다\n",
    "훌륭 합니다.\n",
    "최초로 파이썬으로 음악을 만들었습니다!"
   ]
  },
  {
   "cell_type": "code",
   "execution_count": 5,
   "id": "c8d63bae",
   "metadata": {},
   "outputs": [
    {
     "data": {
      "text/html": [
       "\n",
       "                <div id='midiPlayerDiv64'></div>\n",
       "                <link rel=\"stylesheet\" href=\"//cuthbertLab.github.io/music21j/css/m21.css\"\n",
       "                    type=\"text/css\" />\n",
       "                \n",
       "                <script>\n",
       "                require.config({\n",
       "                    paths: {'music21': '//cuthbertLab.github.io/music21j/src/music21'}\n",
       "                });\n",
       "                require(['music21'], function() {\n",
       "                               mp = new music21.miditools.MidiPlayer();\n",
       "                               mp.addPlayer('#midiPlayerDiv64');\n",
       "                               mp.base64Load('data:audio/midi;base64,TVRoZAAAAAYAAQACBABNVHJrAAAAFAD/UQMHoSAA/1gEBAIYCIgA/y8ATVRyawAAABcA/wMAAOAAQIgAkDxaiACAPACIAP8vAA==');\n",
       "                        });\n",
       "                </script>"
      ],
      "text/plain": [
       "<IPython.core.display.HTML object>"
      ]
     },
     "metadata": {},
     "output_type": "display_data"
    }
   ],
   "source": [
    "note1.show('midi')"
   ]
  },
  {
   "cell_type": "markdown",
   "id": "8fe2bf69",
   "metadata": {},
   "source": [
    "지금까지 주피터 노트북을 사용하여 파이썬으로 \n",
    "C4, 4분음표를 오선지에 그리는 것을 해봤습니다.\n",
    "\n",
    "다음은 두개이상의 음을 사용하여 멜로디를 만들어 보겠습니다.\n"
   ]
  },
  {
   "cell_type": "markdown",
   "id": "37378b74",
   "metadata": {},
   "source": [
    "## 멜로디 만들기"
   ]
  },
  {
   "cell_type": "markdown",
   "id": "c3c2bfcd",
   "metadata": {},
   "source": [
    "음악은 하나의 노트들이 모여 하나의 멜로디를 만듭니다.\n",
    "명곡도 첫음부터 시작을 하고 쌓여 간것이지요?\n",
    "이제 여러분의 멜로디를 담을 그릇, 음악 stream(흐름)을 만듭니다.\n",
    "s1 은 여러분의 명곡의 첫 오선지 입니다. "
   ]
  },
  {
   "cell_type": "markdown",
   "id": "19c9cf4b",
   "metadata": {},
   "source": [
    "음악 스트림(연속된 흐름)을 s1이라 해봅시다. s1은 여러분이 만들 stream입니다."
   ]
  },
  {
   "cell_type": "code",
   "execution_count": 6,
   "id": "c65c75e7",
   "metadata": {},
   "outputs": [],
   "source": [
    "s1 = stream.Stream()"
   ]
  },
  {
   "cell_type": "markdown",
   "id": "22536368",
   "metadata": {},
   "source": [
    "s1에 note1을 append (추가)합니다."
   ]
  },
  {
   "cell_type": "code",
   "execution_count": 7,
   "id": "5fe40937",
   "metadata": {},
   "outputs": [],
   "source": [
    "s1.append(note1)"
   ]
  },
  {
   "cell_type": "markdown",
   "id": "5c697ff6",
   "metadata": {},
   "source": [
    "s1을 보여 줍니다."
   ]
  },
  {
   "cell_type": "code",
   "execution_count": 8,
   "id": "ca1ca9d5",
   "metadata": {},
   "outputs": [
    {
     "data": {
      "image/png": "[encoded data removed]",
      "text/plain": [
       "<IPython.core.display.Image object>"
      ]
     },
     "metadata": {
      "image/png": {
       "height": 49,
       "width": 226
      }
     },
     "output_type": "display_data"
    }
   ],
   "source": [
    "s1.show()"
   ]
  },
  {
   "cell_type": "markdown",
   "id": "b32e6a3b",
   "metadata": {},
   "source": [
    "두번째 노트 Note2를 추가해봅니다"
   ]
  },
  {
   "cell_type": "code",
   "execution_count": 9,
   "id": "4d32ca20",
   "metadata": {},
   "outputs": [],
   "source": [
    "note2 = note.Note(\"D4\")\n"
   ]
  },
  {
   "cell_type": "markdown",
   "id": "8d7b73ec",
   "metadata": {},
   "source": [
    "음악에서 음의 높이와 함꼐 가장 중요한것은 음의 길이라고 하였지요?\n",
    "두번째로 만든 Note2의 음의 길이 를 4분음표, quarter로 지정합니다."
   ]
  },
  {
   "cell_type": "code",
   "execution_count": 10,
   "id": "70732b36",
   "metadata": {},
   "outputs": [],
   "source": [
    "note2.duration.type = \"quarter\""
   ]
  },
  {
   "cell_type": "markdown",
   "id": "75ff3700",
   "metadata": {},
   "source": [
    "여러분이 만들 멜로디의 흐름 s1에 방금 만든 note2를 추가해 봅니다."
   ]
  },
  {
   "cell_type": "code",
   "execution_count": 11,
   "id": "6e289051",
   "metadata": {},
   "outputs": [],
   "source": [
    "s1.append(note2)"
   ]
  },
  {
   "cell_type": "markdown",
   "id": "57bfbd94",
   "metadata": {},
   "source": [
    "이제 note1과 note2가 추가된 멜로디의 오선보를 그려 봅니다.\n",
    "스트림 s1을 show 하면 됩니다."
   ]
  },
  {
   "cell_type": "code",
   "execution_count": 12,
   "id": "c9238aa5",
   "metadata": {},
   "outputs": [
    {
     "data": {
      "image/png": "[encoded data removed]",
      "text/plain": [
       "<IPython.core.display.Image object>"
      ]
     },
     "metadata": {
      "image/png": {
       "height": 49,
       "width": 257
      }
     },
     "output_type": "display_data"
    }
   ],
   "source": [
    "s1.show()"
   ]
  },
  {
   "cell_type": "markdown",
   "id": "3c6b01c8",
   "metadata": {},
   "source": [
    "show('midi') 를 통하여 들어볼 수 있습니다."
   ]
  },
  {
   "cell_type": "code",
   "execution_count": 13,
   "id": "99e16864",
   "metadata": {},
   "outputs": [
    {
     "data": {
      "text/html": [
       "\n",
       "                <div id='midiPlayerDiv242'></div>\n",
       "                <link rel=\"stylesheet\" href=\"//cuthbertLab.github.io/music21j/css/m21.css\"\n",
       "                    type=\"text/css\" />\n",
       "                \n",
       "                <script>\n",
       "                require.config({\n",
       "                    paths: {'music21': '//cuthbertLab.github.io/music21j/src/music21'}\n",
       "                });\n",
       "                require(['music21'], function() {\n",
       "                               mp = new music21.miditools.MidiPlayer();\n",
       "                               mp.addPlayer('#midiPlayerDiv242');\n",
       "                               mp.base64Load('data:audio/midi;base64,TVRoZAAAAAYAAQACBABNVHJrAAAAFAD/UQMHoSAA/1gEBAIYCIgA/y8ATVRyawAAACAA/wMAAOAAQIgAkDxaiACAPAAAkD5aiACAPgCIAP8vAA==');\n",
       "                        });\n",
       "                </script>"
      ],
      "text/plain": [
       "<IPython.core.display.HTML object>"
      ]
     },
     "metadata": {},
     "output_type": "display_data"
    }
   ],
   "source": [
    "s1.show('midi')"
   ]
  },
  {
   "cell_type": "markdown",
   "id": "490919b8",
   "metadata": {},
   "source": [
    "처음으로 파이썬 코딩을 해봤습니다. 명령어 사이에 . 이 들어 가 있는데, 어떠한 규칙이 있는 것 같습니다. 그 규칙은 무엇일까요? 우리가 컴퓨터 언어를 배운다는 것은 컴퓨터와 소통하는 문법을 배우는 것입니다. 외국어를 배운다는 것은 기본 규칙을 이해하면 복잡한 문장을 만들어 날수 있습니다.파이썬은 오브젝트 오리엔티드 프로그래밍 언어입니다. Object Oriented Programming은 객체 지향 프로그래밍은 컴퓨터 프로그래밍의 패러다임 중 하나입니다. 객체 지향 프로그래밍은 컴퓨터 프로그램을 명령어의 목록으로 보는 시각에서 벗어나 여러 개의 독립된 단위, 즉 \"객체\"들의 모임으로 파악하고자 하는 것이다. 각각의 객체는 메시지를 주고받고, 데이터를 처리할 수 있습니다.  \n",
    "예를 들면 다음과 같습니다.오브젝트.속성 = 뭐다.노트.길이=4분음표리모트컨트롤러.파워=온 피아노.건반=C5곡.제목=“제목”\n",
    "과 같은 식입니다. "
   ]
  },
  {
   "cell_type": "markdown",
   "id": "ca10c2c5",
   "metadata": {},
   "source": [
    "곡의 제목\n",
    "작곡자.\n",
    "의 메타 데이터를 추가한후\n",
    "악보를 다시 봅니다."
   ]
  },
  {
   "cell_type": "code",
   "execution_count": 14,
   "id": "f21fa030",
   "metadata": {},
   "outputs": [
    {
     "data": {
      "image/png": "[encoded data removed]",
      "text/plain": [
       "<IPython.core.display.Image object>"
      ]
     },
     "metadata": {
      "image/png": {
       "height": 156,
       "width": 674
      }
     },
     "output_type": "display_data"
    }
   ],
   "source": [
    "s1.insert(0, metadata.Metadata())\n",
    "s1.metadata.title = 'title'\n",
    "s1.metadata.composer = 'composer'\n",
    "s1.show()"
   ]
  },
  {
   "cell_type": "markdown",
   "id": "3823b747",
   "metadata": {},
   "source": [
    "지금까지 음을 추가하는 방법을 배웠습니다.\n",
    "음의 높이를 변경하는것은 알았으니\n",
    "음의 길이를 4분 음표만이 아니라 8분 음표, 16분 음표로 바꾸고 싶을것입니다.\n",
    "혹은 음악의 가장 중요한 쉼표를 그리고 싶을것이기도 합니다.\n",
    "\n",
    "의문은 좋은것입니다.\n",
    "그러나 \n",
    "note3\n",
    "note4를 계속 추가하여 다양한 멜로디를 먼저 만들어 보는것은 어떨까요?\n"
   ]
  },
  {
   "cell_type": "code",
   "execution_count": null,
   "id": "4bc1e08b",
   "metadata": {},
   "outputs": [],
   "source": [
    "다음과 같은 노트 리스트가 있습니다."
   ]
  },
  {
   "cell_type": "code",
   "execution_count": 28,
   "id": "c83a76b8",
   "metadata": {},
   "outputs": [],
   "source": [
    "notelist = [60,61,64,72]"
   ]
  },
  {
   "cell_type": "code",
   "execution_count": 29,
   "id": "9239aaa4",
   "metadata": {},
   "outputs": [
    {
     "data": {
      "text/plain": [
       "[60, 61, 64, 72]"
      ]
     },
     "execution_count": 29,
     "metadata": {},
     "output_type": "execute_result"
    }
   ],
   "source": [
    "notelist"
   ]
  },
  {
   "cell_type": "code",
   "execution_count": null,
   "id": "5e7b9795",
   "metadata": {},
   "outputs": [],
   "source": []
  },
  {
   "cell_type": "code",
   "execution_count": null,
   "id": "767b21dd",
   "metadata": {},
   "outputs": [],
   "source": [
    "이 리스트 내의 수를 사용하기 위해서는 하나씩 순차적으로 꺼내야 합니다\n",
    "컴퓨터 언어에서는 이 행위를 iterate 한다고 하는데\n",
    "우리말로 번역하면 반복 하다 입니다.\n"
   ]
  },
  {
   "cell_type": "code",
   "execution_count": null,
   "id": "70e58014",
   "metadata": {},
   "outputs": [],
   "source": [
    "파이썬에서 1부터 4까지 프린트 하기 위해서는 다음과 같이 합니다."
   ]
  },
  {
   "cell_type": "code",
   "execution_count": 31,
   "id": "3035425d",
   "metadata": {},
   "outputs": [
    {
     "name": "stdout",
     "output_type": "stream",
     "text": [
      "0\n",
      "1\n",
      "2\n",
      "3\n"
     ]
    }
   ],
   "source": [
    "for i in range(4):\n",
    "    print(i)"
   ]
  },
  {
   "cell_type": "code",
   "execution_count": null,
   "id": "5bd6daa4",
   "metadata": {},
   "outputs": [],
   "source": [
    "앞서 정한 우리의 리스트 \n",
    "notelist = [60,61,64,72]\n",
    "\n",
    "이 리스트에는 총 4개의 값이 있습니다.\n",
    "\n",
    "60은 C4\n",
    "61은 C#4\n",
    "64는 E4\n",
    "72는 C5의 \n",
    "미디 노트 번호 입니다.\n",
    "\n",
    "*앞으로 숫자와 노트 번호의 변환은 SCRATCH 프로그램에서 사용하는 숫자와 호환을 시켜 \n",
    "일반 시퀀서 프로그램의 미디 노트 번호와 는 다를수 있습니다."
   ]
  },
  {
   "cell_type": "markdown",
   "id": "721cf2fa",
   "metadata": {},
   "source": [
    "notelist 리스트의 구성성분 값을 보기 위해 다음과 같이 합니다"
   ]
  },
  {
   "cell_type": "code",
   "execution_count": 34,
   "id": "e82cd6be",
   "metadata": {},
   "outputs": [
    {
     "name": "stdout",
     "output_type": "stream",
     "text": [
      "60\n",
      "61\n",
      "64\n",
      "72\n"
     ]
    }
   ],
   "source": [
    "for i in notelist:\n",
    "    print(i)"
   ]
  },
  {
   "cell_type": "code",
   "execution_count": null,
   "id": "8dcce673",
   "metadata": {},
   "outputs": [],
   "source": [
    "i는 notelist 안의 값을 끝까지 반복 한다 입니다. \n",
    "for i in notelist:\n",
    "    \n",
    "를 통해서 notelist안의 값을 가져 왔습니다.\n",
    "이것을 통해 \n",
    "60은 C4 ,61은 C#4, 64는 E4,72는 C5 를 악보로 그려보겠습니다."
   ]
  },
  {
   "cell_type": "code",
   "execution_count": 39,
   "id": "ac40de1b",
   "metadata": {},
   "outputs": [
    {
     "data": {
      "image/png": "[encoded data removed]",
      "text/plain": [
       "<IPython.core.display.Image object>"
      ]
     },
     "metadata": {
      "image/png": {
       "height": 160,
       "width": 674
      }
     },
     "output_type": "display_data"
    }
   ],
   "source": [
    "from music21 import *\n",
    "\n",
    "\n",
    "s1 = stream.Stream();\n",
    "s1.clear()\n",
    "s1.insert(0, metadata.Metadata())\n",
    "s1.metadata.title = '노트리스트를 악보로 만들기  '\n",
    "s1.metadata.composer = '온석대학원대학교'\n",
    "\n",
    "for i in notelist :\n",
    "    n1 = note.Note(i)\n",
    "    n1.quarterLength=1\n",
    "    s1.append(n1)   \n",
    "s1.show() "
   ]
  },
  {
   "cell_type": "code",
   "execution_count": 40,
   "id": "c7b650d2",
   "metadata": {},
   "outputs": [
    {
     "data": {
      "text/html": [
       "\n",
       "                <div id='midiPlayerDiv816'></div>\n",
       "                <link rel=\"stylesheet\" href=\"//cuthbertLab.github.io/music21j/css/m21.css\"\n",
       "                    type=\"text/css\" />\n",
       "                \n",
       "                <script>\n",
       "                require.config({\n",
       "                    paths: {'music21': '//cuthbertLab.github.io/music21j/src/music21'}\n",
       "                });\n",
       "                require(['music21'], function() {\n",
       "                               mp = new music21.miditools.MidiPlayer();\n",
       "                               mp.addPlayer('#midiPlayerDiv816');\n",
       "                               mp.base64Load('data:audio/midi;base64,TVRoZAAAAAYAAQACBABNVHJrAAAAFAD/UQMHoSAA/1gEBAIYCIgA/y8ATVRyawAAADIA/wMAAOAAQIgAkDxaiACAPAAAkD1aiACAPQAAkEBaiACAQAAAkEhaiACASACIAP8vAA==');\n",
       "                        });\n",
       "                </script>"
      ],
      "text/plain": [
       "<IPython.core.display.HTML object>"
      ]
     },
     "metadata": {},
     "output_type": "display_data"
    }
   ],
   "source": [
    "s1.show('midi')"
   ]
  }
 ],
 "metadata": {
  "kernelspec": {
   "display_name": "Python 3 (ipykernel)",
   "language": "python",
   "name": "python3"
  },
  "language_info": {
   "codemirror_mode": {
    "name": "ipython",
    "version": 3
   },
   "file_extension": ".py",
   "mimetype": "text/x-python",
   "name": "python",
   "nbconvert_exporter": "python",
   "pygments_lexer": "ipython3",
   "version": "3.10.4"
  }
 },
 "nbformat": 4,
 "nbformat_minor": 5
}
