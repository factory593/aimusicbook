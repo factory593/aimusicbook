{
 "cells": [
  {
   "cell_type": "code",
   "execution_count": 1,
   "id": "3a3a79ba",
   "metadata": {},
   "outputs": [],
   "source": [
    "from music21 import *\n"
   ]
  },
  {
   "cell_type": "code",
   "execution_count": 4,
   "id": "70705a38",
   "metadata": {},
   "outputs": [],
   "source": [
    "note1 = note.Note(\"C4\")\n",
    "note1.duration.type = \"quarter\""
   ]
  },
  {
   "cell_type": "code",
   "execution_count": 5,
   "id": "e281edc3",
   "metadata": {},
   "outputs": [
    {
     "data": {
      "image/png": "[encoded data removed]",
      "text/plain": [
       "<IPython.core.display.Image object>"
      ]
     },
     "metadata": {
      "image/png": {
       "height": 49,
       "width": 196
      }
     },
     "output_type": "display_data"
    }
   ],
   "source": [
    "note1.show()"
   ]
  },
  {
   "cell_type": "code",
   "execution_count": 6,
   "id": "34c27f66",
   "metadata": {},
   "outputs": [
    {
     "data": {
      "text/html": [
       "\n",
       "                <div id='midiPlayerDiv115'></div>\n",
       "                <link rel=\"stylesheet\" href=\"//cuthbertLab.github.io/music21j/css/m21.css\"\n",
       "                    type=\"text/css\" />\n",
       "                \n",
       "                <script>\n",
       "                require.config({\n",
       "                    paths: {'music21': '//cuthbertLab.github.io/music21j/src/music21'}\n",
       "                });\n",
       "                require(['music21'], function() {\n",
       "                               mp = new music21.miditools.MidiPlayer();\n",
       "                               mp.addPlayer('#midiPlayerDiv115');\n",
       "                               mp.base64Load('data:audio/midi;base64,TVRoZAAAAAYAAQACBABNVHJrAAAAFAD/UQMHoSAA/1gEBAIYCIgA/y8ATVRyawAAABcA/wMAAOAAQIgAkDxaiACAPACIAP8vAA==');\n",
       "                        });\n",
       "                </script>"
      ],
      "text/plain": [
       "<IPython.core.display.HTML object>"
      ]
     },
     "metadata": {},
     "output_type": "display_data"
    }
   ],
   "source": [
    "note1.show('midi')"
   ]
  },
  {
   "cell_type": "code",
   "execution_count": null,
   "id": "a50558fa",
   "metadata": {},
   "outputs": [],
   "source": []
  }
 ],
 "metadata": {
  "kernelspec": {
   "display_name": "Python 3 (ipykernel)",
   "language": "python",
   "name": "python3"
  },
  "language_info": {
   "codemirror_mode": {
    "name": "ipython",
    "version": 3
   },
   "file_extension": ".py",
   "mimetype": "text/x-python",
   "name": "python",
   "nbconvert_exporter": "python",
   "pygments_lexer": "ipython3",
   "version": "3.10.4"
  }
 },
 "nbformat": 4,
 "nbformat_minor": 5
}
