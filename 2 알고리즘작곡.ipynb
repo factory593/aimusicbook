{
 "cells": [
  {
   "cell_type": "markdown",
   "id": "1d280536",
   "metadata": {},
   "source": [
    "# 파이썬 음악\n",
    "저자 온석대학원대학교 인공지능음악 전공 지도교수 최영준"
   ]
  },
  {
   "cell_type": "markdown",
   "id": "9e2c3f5d",
   "metadata": {},
   "source": [
    "주제: 파이썬으로 음악을 만드는 기초 과정\n",
    "온석대학원 대학교 인공지능음악과정 의 인공지능 음악 실습 수업 자료 입니다.\n",
    "(c)2020 저작권은 온석대학원 대학교 인공지능 음악과정 지도 교수 최영준에게 있습니다. \n",
    "수업시간이나 개인적인 목적으로 사용하실때 출처를 밝히고 사용하는것은 상관없지만.\n",
    "무단 도용은 금지 합니다."
   ]
  },
  {
   "cell_type": "markdown",
   "id": "012e54e3",
   "metadata": {},
   "source": [
    "## 12음주의"
   ]
  },
  {
   "cell_type": "markdown",
   "id": "458f15fd",
   "metadata": {},
   "source": [
    "C4에서 B3까지 크로마틱 스케일을 만들어 봅니다.\n",
    "12음주의(Dodecaphonism, Twelve-tone technique)는 아르놀트 쇤베르크가 1919 년 창시한 작곡 기법으로 옥타브 안의 12반음을 전혀 중복없이 써야 합니다."
   ]
  },
  {
   "cell_type": "code",
   "execution_count": 2,
   "id": "35e7d068",
   "metadata": {},
   "outputs": [],
   "source": [
    "from music21 import *"
   ]
  },
  {
   "cell_type": "code",
   "execution_count": 3,
   "id": "c925fca6",
   "metadata": {},
   "outputs": [],
   "source": [
    "s1 = stream.Stream();"
   ]
  },
  {
   "cell_type": "code",
   "execution_count": 4,
   "id": "4a1bee51",
   "metadata": {},
   "outputs": [],
   "source": [
    "s1.insert(0, metadata.Metadata())\n",
    "s1.metadata.title = '크로마틱스케일음악'\n",
    "s1.metadata.composer = '파이썬'"
   ]
  },
  {
   "cell_type": "code",
   "execution_count": 5,
   "id": "19b9c812",
   "metadata": {},
   "outputs": [],
   "source": [
    "for x in range(12):\n",
    "    chromatic_melody = 60+x\n",
    "    n1 = note.Note(chromatic_melody)\n",
    "    n1.quarterLength=1\n",
    "    s1.append(n1)"
   ]
  },
  {
   "cell_type": "code",
   "execution_count": 6,
   "id": "47d8013a",
   "metadata": {},
   "outputs": [
    {
     "data": {
      "image/png": "[encoded data removed]",
      "text/plain": [
       "<IPython.core.display.Image object>"
      ]
     },
     "metadata": {
      "image/png": {
       "height": 160,
       "width": 674
      }
     },
     "output_type": "display_data"
    }
   ],
   "source": [
    "s1.show()"
   ]
  },
  {
   "cell_type": "markdown",
   "id": "fe6b10ab",
   "metadata": {},
   "source": [
    "만들어진 음악을 들어봅니다."
   ]
  },
  {
   "cell_type": "code",
   "execution_count": 7,
   "id": "048159bc",
   "metadata": {},
   "outputs": [
    {
     "data": {
      "text/html": [
       "\n",
       "                <div id='midiPlayerDiv378'></div>\n",
       "                <link rel=\"stylesheet\" href=\"//cuthbertLab.github.io/music21j/css/m21.css\"\n",
       "                    type=\"text/css\" />\n",
       "                \n",
       "                <script>\n",
       "                require.config({\n",
       "                    paths: {'music21': '//cuthbertLab.github.io/music21j/src/music21'}\n",
       "                });\n",
       "                require(['music21'], function() {\n",
       "                               mp = new music21.miditools.MidiPlayer();\n",
       "                               mp.addPlayer('#midiPlayerDiv378');\n",
       "                               mp.base64Load('data:audio/midi;base64,TVRoZAAAAAYAAQACBABNVHJrAAAAFAD/UQMHoSAA/1gEBAIYCIgA/y8ATVRyawAAAHoA/wMAAOAAQIgAkDxaiACAPAAAkD1aiACAPQAAkD5aiACAPgAAkD9aiACAPwAAkEBaiACAQAAAkEFaiACAQQAAkEJaiACAQgAAkENaiACAQwAAkERaiACARAAAkEVaiACARQAAkEZaiACARgAAkEdaiACARwCIAP8vAA==');\n",
       "                        });\n",
       "                </script>"
      ],
      "text/plain": [
       "<IPython.core.display.HTML object>"
      ]
     },
     "metadata": {},
     "output_type": "display_data"
    }
   ],
   "source": [
    "s1.show('midi')"
   ]
  },
  {
   "cell_type": "markdown",
   "id": "8131bbc9",
   "metadata": {},
   "source": [
    "지금까지 for ~ loop 구문을 사용하여 12음열주의 음악을 만들어 봤습니다.\n",
    "for ~ loop는 변수 x 가 12가 될때 까지 그 아래의 코드 들을 반복 수행하는 것입니다.\n",
    "chromatic_melody 는 60에 for~loop를 위한 변후 x를 더하게 되는데요\n",
    "결과적으로 \n",
    "chromatic_melody는 C4를 의미하는 60 부터 61,62,63,,,,,,72가 될때 까지 12번 반복이 됩니다.\n",
    "음의 길이는 이번에도 4분음표인데 지난번 예제와는 다릅니다.\n",
    "지난번에는 \n",
    "note1.duration.type = \"quarter\"\n",
    "duration 타입이 quarter라고 하였지만\n",
    "\n",
    "이번에는\n",
    "    n1.quarterLength=1\n",
    "쿼터의 길이를 1 이라고 지정하였습니다.  \n",
    "    n1.quarterLength=0.5 \n",
    "라고 수정하여 프로그램을 수행해보세요. 어떤결과가 나올까요? 4분 음표의 반은 뭐지요?\n",
    "네...8분음표 입니다. 그렇다면 16분 음표는요? 0.25 겠지요?\n",
    "\n",
    "그리고 만들어진 음들을 스트림 s1에 추가(append) 합니다.\n",
    "\n",
    "for~loop구문을 사용할때 코드의 들여쓰기를 주의 하세요.\n",
    "들여 쓰기 한 부분 만큼만 반복을 하기 때문입니다.\n",
    "\n"
   ]
  },
  {
   "cell_type": "markdown",
   "id": "840e789e",
   "metadata": {},
   "source": [
    "## 매번 다르게 만들 수있는 12음주의 음악 1"
   ]
  },
  {
   "cell_type": "code",
   "execution_count": 8,
   "id": "3b8df292",
   "metadata": {},
   "outputs": [],
   "source": [
    "from music21 import *"
   ]
  },
  {
   "cell_type": "markdown",
   "id": "b75134ef",
   "metadata": {},
   "source": [
    "이전예제에서 만든 스트림을 지웁니다."
   ]
  },
  {
   "cell_type": "code",
   "execution_count": 9,
   "id": "73ebb8aa",
   "metadata": {},
   "outputs": [],
   "source": [
    "s1.clear()"
   ]
  },
  {
   "cell_type": "code",
   "execution_count": 10,
   "id": "a4c39037",
   "metadata": {},
   "outputs": [],
   "source": [
    "s1 = stream.Stream();\n",
    "s1.insert(0, metadata.Metadata())\n",
    "s1.metadata.title = '매번 다르게 만들 수있는 12음주의 음악 '\n",
    "s1.metadata.composer = '파이썬'"
   ]
  },
  {
   "cell_type": "code",
   "execution_count": 11,
   "id": "cde7eba1",
   "metadata": {},
   "outputs": [],
   "source": [
    "import random "
   ]
  },
  {
   "cell_type": "code",
   "execution_count": 12,
   "id": "3388391c",
   "metadata": {},
   "outputs": [],
   "source": [
    "for x in range(12):\n",
    "    random_note = random.randrange(60,72)\n",
    "    n1 = note.Note(random_note)\n",
    "    n1.quarterLength=1\n",
    "    s1.append(n1)"
   ]
  },
  {
   "cell_type": "code",
   "execution_count": 13,
   "id": "f975fa53",
   "metadata": {},
   "outputs": [
    {
     "data": {
      "image/png": "[encoded data removed]",
      "text/plain": [
       "<IPython.core.display.Image object>"
      ]
     },
     "metadata": {
      "image/png": {
       "height": 160,
       "width": 674
      }
     },
     "output_type": "display_data"
    }
   ],
   "source": [
    "s1.show()"
   ]
  },
  {
   "cell_type": "code",
   "execution_count": 14,
   "id": "fe8574d0",
   "metadata": {},
   "outputs": [
    {
     "data": {
      "text/html": [
       "\n",
       "                <div id='midiPlayerDiv757'></div>\n",
       "                <link rel=\"stylesheet\" href=\"//cuthbertLab.github.io/music21j/css/m21.css\"\n",
       "                    type=\"text/css\" />\n",
       "                \n",
       "                <script>\n",
       "                require.config({\n",
       "                    paths: {'music21': '//cuthbertLab.github.io/music21j/src/music21'}\n",
       "                });\n",
       "                require(['music21'], function() {\n",
       "                               mp = new music21.miditools.MidiPlayer();\n",
       "                               mp.addPlayer('#midiPlayerDiv757');\n",
       "                               mp.base64Load('data:audio/midi;base64,TVRoZAAAAAYAAQACBABNVHJrAAAAFAD/UQMHoSAA/1gEBAIYCIgA/y8ATVRyawAAAHoA/wMAAOAAQIgAkEVaiACARQAAkD5aiACAPgAAkEZaiACARgAAkEJaiACAQgAAkDxaiACAPAAAkEBaiACAQAAAkERaiACARAAAkEZaiACARgAAkEZaiACARgAAkERaiACARAAAkEFaiACAQQAAkERaiACARACIAP8vAA==');\n",
       "                        });\n",
       "                </script>"
      ],
      "text/plain": [
       "<IPython.core.display.HTML object>"
      ]
     },
     "metadata": {},
     "output_type": "display_data"
    }
   ],
   "source": [
    "s1.show('midi')"
   ]
  },
  {
   "cell_type": "markdown",
   "id": "e41446e5",
   "metadata": {},
   "source": [
    "이제 12음을 랜덤하게 분배하여 멜로디를 만들어 봤습니다.\n",
    "랜덤 함수를 사용하기 위해서는\n",
    "import random \n",
    "을 사용하여 random 라이브러리를 불러와야 합니다.\n",
    "\n",
    "for~loop를 사용하여 12번 반복하는것은 이전 예제와 같습니다\n",
    "for x in range(12): \n",
    "    \n",
    "다만 chromatic_melody 가 60부터 순차적으로 증가하는 반면\n",
    "chromatic_melody = 60+x\n",
    "\n",
    "random_note 는 60부터 72까지의 수를 무작위로 추출하는것이다릅니다\n",
    "random_note = random.randrange(60,71)"
   ]
  },
  {
   "cell_type": "markdown",
   "id": "87822a15",
   "metadata": {},
   "source": [
    "## 매번 다르게 만들 수있는 12음주의 음악  2"
   ]
  },
  {
   "cell_type": "markdown",
   "id": "5bde4fab",
   "metadata": {},
   "source": [
    "눈치 챘을까요?\n",
    "앞서 해본 예제에서 가장 심각한 오류는 \n",
    "아르놀트 쇤베르크가 창시한 작곡 기법 \n",
    "12음렬주의 음악의 규칙에서 벗어난다는 것입니다.\n",
    "\n",
    "12음주의(Dodecaphonism, Twelve-tone technique)는\n",
    "옥타브 안의 12반음을 전혀 중복없이 써서 음렬을 만들어야 합니다.\n",
    "그런데 무작위로 난수를 가져오는데에 있어 반복이 생겨 버립니다.\n",
    "\n",
    "60부터 71까지의 수를 중복없이 뽑아 내야 합니다.\n"
   ]
  },
  {
   "cell_type": "markdown",
   "id": "1d710eda",
   "metadata": {},
   "source": [
    "자 60(C4)부터 72(B4)까지의 수 를 \n",
    "중복없이 난수를 만들기 위해 \n",
    "random.sample(range(시작수, 끝나는 수), 몇개)\n",
    "를 사용합니다.\n",
    "\n",
    "우리는 60부터 72 까지 총 12개를 만들것이기 때문에 \n",
    "random_int_no_again = random.sample(range(60,72),12) \n",
    "라고 함수를 호출합니다.\n",
    "\n",
    "생성된 12개의 난수들은 \n",
    "random_int_no_again 변수에 넣습니다.\n",
    "\n",
    "매번 실행 할때 마다 다른 결과를 줍니다.\n",
    "컴퓨터는 변덕 스럽습니다."
   ]
  },
  {
   "cell_type": "code",
   "execution_count": 39,
   "id": "630687b0",
   "metadata": {},
   "outputs": [
    {
     "name": "stdout",
     "output_type": "stream",
     "text": [
      "[61, 67, 66, 60, 71, 63, 62, 68, 65, 69, 64, 70]\n"
     ]
    }
   ],
   "source": [
    "random_int_no_again = random.sample(range(60,72),12) \n",
    "print(random_int_no_again)\n"
   ]
  },
  {
   "cell_type": "markdown",
   "id": "19100282",
   "metadata": {},
   "source": [
    "여기서 문제가 있습니다.\n",
    "random_int_no_again 는 \n",
    "숫자가 \n",
    "[65, 69, 71, 62, 67, 68, 66, 60, 63, 61, 64, 70]\n",
    "가로로 나옵니다.\n",
    "이것은 단순 변수가 아니라\n",
    "리스트 이기 때문입니다.\n",
    "\n",
    "나이 = 20 은 단순 변수 입니다.\n",
    "그러나 \n",
    "나이들 [20,21,23,19,32] 은 리스트 입니다.\n",
    "총 5명의 나이입니다. 그 구성은 20,21,23,19,32 입니다.\n",
    "이 구성 성분을 사용하기 위해서는\n",
    "그 구성성분들을 찾기위해 5명이니 총 5번 반복을 해야 합니다.\n",
    "이러한 행위를 iterate한다고 하는데, iterate는 반복하다는 뜻입니다.\n",
    "\n",
    "앞서 random_int_not_again 을 통해 만들어진 12개의 \n",
    "난수의 구성 성분을 반복하기 위하여서는 \n",
    "다음과 같이 for ~ loop를 해줍니다."
   ]
  },
  {
   "cell_type": "code",
   "execution_count": 40,
   "id": "28cc4860",
   "metadata": {},
   "outputs": [
    {
     "name": "stdout",
     "output_type": "stream",
     "text": [
      "61\n",
      "67\n",
      "66\n",
      "60\n",
      "71\n",
      "63\n",
      "62\n",
      "68\n",
      "65\n",
      "69\n",
      "64\n",
      "70\n"
     ]
    }
   ],
   "source": [
    "for x in random_int_no_again :\n",
    "    print(x)"
   ]
  },
  {
   "cell_type": "markdown",
   "id": "62e3b4dd",
   "metadata": {},
   "source": [
    "이제 random_int_no_again 가 만든 리스트가\n",
    "분해 되어 프린트 됩니다.\n",
    "이 값 x를 악보를 만들때 사용합니다.\n",
    "    n1 = note.Note(x)\n",
    "    "
   ]
  },
  {
   "cell_type": "code",
   "execution_count": 41,
   "id": "ff8dda5f",
   "metadata": {},
   "outputs": [],
   "source": [
    "from music21 import *\n",
    "import random \n",
    "\n",
    "s1.clear()\n",
    "s1 = stream.Stream();\n",
    "s1.insert(0, metadata.Metadata())\n",
    "s1.metadata.title = '매번 다르게 만들 수있는 12음주의 음악 2 '\n",
    "s1.metadata.composer = '파이썬'"
   ]
  },
  {
   "cell_type": "code",
   "execution_count": 42,
   "id": "bcd4a184",
   "metadata": {},
   "outputs": [],
   "source": [
    "for x in random_int_no_again :\n",
    "    n1 = note.Note(x)\n",
    "    n1.quarterLength=1\n",
    "    s1.append(n1)    "
   ]
  },
  {
   "cell_type": "code",
   "execution_count": 43,
   "id": "39fd20c9",
   "metadata": {},
   "outputs": [
    {
     "data": {
      "image/png": "[encoded data removed]",
      "text/plain": [
       "<IPython.core.display.Image object>"
      ]
     },
     "metadata": {
      "image/png": {
       "height": 160,
       "width": 674
      }
     },
     "output_type": "display_data"
    }
   ],
   "source": [
    "s1.show()"
   ]
  },
  {
   "cell_type": "code",
   "execution_count": 20,
   "id": "2cd81092",
   "metadata": {},
   "outputs": [
    {
     "data": {
      "text/html": [
       "\n",
       "                <div id='midiPlayerDiv1136'></div>\n",
       "                <link rel=\"stylesheet\" href=\"//cuthbertLab.github.io/music21j/css/m21.css\"\n",
       "                    type=\"text/css\" />\n",
       "                \n",
       "                <script>\n",
       "                require.config({\n",
       "                    paths: {'music21': '//cuthbertLab.github.io/music21j/src/music21'}\n",
       "                });\n",
       "                require(['music21'], function() {\n",
       "                               mp = new music21.miditools.MidiPlayer();\n",
       "                               mp.addPlayer('#midiPlayerDiv1136');\n",
       "                               mp.base64Load('data:audio/midi;base64,TVRoZAAAAAYAAQACBABNVHJrAAAAFAD/UQMHoSAA/1gEBAIYCIgA/y8ATVRyawAAAHoA/wMAAOAAQIgAkEdaiACARwAAkDxaiACAPAAAkEFaiACAQQAAkEJaiACAQgAAkD1aiACAPQAAkENaiACAQwAAkEZaiACARgAAkD9aiACAPwAAkERaiACARAAAkD5aiACAPgAAkEVaiACARQAAkEBaiACAQACIAP8vAA==');\n",
       "                        });\n",
       "                </script>"
      ],
      "text/plain": [
       "<IPython.core.display.HTML object>"
      ]
     },
     "metadata": {},
     "output_type": "display_data"
    }
   ],
   "source": [
    "s1.show('midi')"
   ]
  },
  {
   "cell_type": "markdown",
   "id": "1cb23058",
   "metadata": {},
   "source": [
    "어떤가요?\n",
    "반복이 없는 12음주의 음악을 완성하였습니다.\n",
    "실행해보고 또 실행해보세요.\n",
    "계속 다른음악이 생성됩니다.\n",
    "이것은 알고리즘 작곡의 영역입니다.\n",
    "\n",
    "인공지능음악 작곡은 \n",
    "이렇게 생성된 음악들을 학습하여 \n",
    "예측하여 만드는것입니다.\n",
    "우리는 거기까지 공부할 예정입니다.\n",
    "\n",
    "이번 과정에서 함수를 만드는것 때문에 난이도가 갑자기 올라 갔으나.\n",
    "아르놀트 쇤베르크 가 피보나치 수열에서 영감을 얻기까지의 여정에 비하면 과연 어려울까요?\n",
    "우린 아직 아르놀트 쇤베르크 가 아니니! 어려운건 어려운겁니다.\n",
    "괜찮습니다. 여기 까지 따라온것만 해도 이 책을 읽고있는 여러분은 최고 입니다.\n",
    "\n",
    "함수를 만드는법은 차차 더 설명 할 예정입니다.\n",
    "파이썬으로 음악을 만드는거이 어떠한 의미인지.\n",
    "어떠한 결과를 낼수 있는지. \n",
    "미리 보기 같은 과정 이었습니다. 그렇기 때문에 약간 어려웠습니다.\n",
    "아직 \n",
    "리게티 죄르지 의 무지카 리체르카타 (1951~1953)\n",
    "두개의 피아노 또는 마림바를 위한 '피아노 위상'(1967)\n",
    "까지 다루어 볼까 합니다."
   ]
  },
  {
   "cell_type": "markdown",
   "id": "a76c726a",
   "metadata": {},
   "source": [
    "## 매번 다르게 만들 수있는 12음주의 음악  3"
   ]
  },
  {
   "cell_type": "markdown",
   "id": "342e3203",
   "metadata": {},
   "source": [
    "매번 다르게 만들 수있는 12음주의 음악 2 의 코드를 정리해 보겠습니다."
   ]
  },
  {
   "cell_type": "code",
   "execution_count": 44,
   "id": "62b20f0a",
   "metadata": {},
   "outputs": [
    {
     "data": {
      "image/png": "[encoded data removed]",
      "text/plain": [
       "<IPython.core.display.Image object>"
      ]
     },
     "metadata": {
      "image/png": {
       "height": 160,
       "width": 674
      }
     },
     "output_type": "display_data"
    }
   ],
   "source": [
    "from music21 import *\n",
    "import random\n",
    "\n",
    "random_int_no_again = random.sample(range(60,72),12) #60부터 72 사이에서 12개의 랜덤 수를 뽑아낸다.\n",
    "\n",
    "s1.clear()\n",
    "s1 = stream.Stream();\n",
    "s1.insert(0, metadata.Metadata())\n",
    "s1.metadata.title = '매번 다르게 만들 수있는 12음주의 음악 3 '\n",
    "s1.metadata.composer = '파이썬'\n",
    "\n",
    "for x in random_int_no_again :\n",
    "    n1 = note.Note(x)\n",
    "    n1.quarterLength=1\n",
    "    s1.append(n1)  \n",
    "s1.show()"
   ]
  },
  {
   "cell_type": "code",
   "execution_count": 45,
   "id": "6a435466",
   "metadata": {},
   "outputs": [
    {
     "data": {
      "text/html": [
       "\n",
       "                <div id='midiPlayerDiv2472'></div>\n",
       "                <link rel=\"stylesheet\" href=\"//cuthbertLab.github.io/music21j/css/m21.css\"\n",
       "                    type=\"text/css\" />\n",
       "                \n",
       "                <script>\n",
       "                require.config({\n",
       "                    paths: {'music21': '//cuthbertLab.github.io/music21j/src/music21'}\n",
       "                });\n",
       "                require(['music21'], function() {\n",
       "                               mp = new music21.miditools.MidiPlayer();\n",
       "                               mp.addPlayer('#midiPlayerDiv2472');\n",
       "                               mp.base64Load('data:audio/midi;base64,TVRoZAAAAAYAAQACBABNVHJrAAAAFAD/UQMHoSAA/1gEBAIYCIgA/y8ATVRyawAAAHoA/wMAAOAAQIgAkEJaiACAQgAAkEFaiACAQQAAkD5aiACAPgAAkEBaiACAQAAAkERaiACARAAAkEZaiACARgAAkENaiACAQwAAkD9aiACAPwAAkEVaiACARQAAkEdaiACARwAAkDxaiACAPAAAkD1aiACAPQCIAP8vAA==');\n",
       "                        });\n",
       "                </script>"
      ],
      "text/plain": [
       "<IPython.core.display.HTML object>"
      ]
     },
     "metadata": {},
     "output_type": "display_data"
    }
   ],
   "source": [
    "s1.show('midi')"
   ]
  },
  {
   "cell_type": "markdown",
   "id": "c48e952b",
   "metadata": {},
   "source": [
    "위의 프로그램을 사용하면 12음렬주의 음악 100곡~1000 곡 을 금방 만들수 있게 되겠네요."
   ]
  }
 ],
 "metadata": {
  "kernelspec": {
   "display_name": "Python 3 (ipykernel)",
   "language": "python",
   "name": "python3"
  },
  "language_info": {
   "codemirror_mode": {
    "name": "ipython",
    "version": 3
   },
   "file_extension": ".py",
   "mimetype": "text/x-python",
   "name": "python",
   "nbconvert_exporter": "python",
   "pygments_lexer": "ipython3",
   "version": "3.10.4"
  }
 },
 "nbformat": 4,
 "nbformat_minor": 5
}
