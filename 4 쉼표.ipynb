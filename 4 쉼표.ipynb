{
 "cells": [
  {
   "cell_type": "markdown",
   "id": "1d280536",
   "metadata": {},
   "source": [
    "# 파이썬 음악\n",
    "저자 온석대학원대학교 인공지능음악 전공 지도교수 최영준"
   ]
  },
  {
   "cell_type": "markdown",
   "id": "9e2c3f5d",
   "metadata": {},
   "source": [
    "주제: 파이썬으로 음악을 만드는 기초 과정\n",
    "온석대학원 대학교 인공지능음악과정 의 인공지능 음악 실습 수업 자료 입니다.\n",
    "(c)2020 저작권은 온석대학원 대학교 인공지능 음악과정 지도 교수 최영준에게 있습니다. \n",
    "수업시간이나 개인적인 목적으로 사용하실때 출처를 밝히고 사용하는것은 상관없지만.\n",
    "무단 도용은 금지 합니다."
   ]
  },
  {
   "cell_type": "markdown",
   "id": "012e54e3",
   "metadata": {},
   "source": [
    "## 쉼표 에 관하여 "
   ]
  },
  {
   "cell_type": "markdown",
   "id": "458f15fd",
   "metadata": {},
   "source": [
    "사람이 숨을 쉬지 않으면 죽습니다.\n",
    "음악에 쉼표가 없다면 좋을까요? 나쁠까요?\n",
    "음악은 긴장과 이완의 연속입니다.\n",
    "\n",
    "음을 재생 할것인지 \n",
    "음을 쉬게 할것인지\n",
    "\n",
    "음을 쉬게 하거나 연주하게 할 또 다른 난수가 필요합니다.\n",
    "\n",
    "다만. \n",
    "50:50의 확률로 음을 연주하거나 쉬게 한다면 \n",
    "음악이 너무 끊어져서 선율이 만들어지기 어려울 것 입니다.'\n",
    "이번 예제 에서는 \n",
    "\n",
    "1~10까지의 난수를 만들고 \n",
    "7보다 클 경우는 쉼표로\n",
    "7보다 작을 경우는 음표로 해보겠습니다.\n",
    "\n",
    "이를 통해서 if condition 문을 배워 보겠습니다."
   ]
  },
  {
   "cell_type": "code",
   "execution_count": 133,
   "id": "a5df4b3e",
   "metadata": {},
   "outputs": [
    {
     "name": "stdout",
     "output_type": "stream",
     "text": [
      "4\n",
      "음표\n"
     ]
    }
   ],
   "source": [
    "note_or_rest = random.randrange(1, 10)\n",
    "print(note_or_rest)\n",
    "if note_or_rest<7:\n",
    "    print(\"음표\")\n",
    "else:\n",
    "    print(\"쉼표\")   "
   ]
  },
  {
   "cell_type": "code",
   "execution_count": null,
   "id": "359a88b5",
   "metadata": {},
   "outputs": [],
   "source": []
  },
  {
   "cell_type": "markdown",
   "id": "342e3203",
   "metadata": {},
   "source": [
    "위의 코드는 여러번 시도 해 보세요. 확률에 따라 음표 와 쉼표가 출력됩니다."
   ]
  },
  {
   "cell_type": "markdown",
   "id": "a76c726a",
   "metadata": {},
   "source": [
    "## 쉼표가 있는 12음주의 음악 "
   ]
  },
  {
   "cell_type": "code",
   "execution_count": 134,
   "id": "62b20f0a",
   "metadata": {},
   "outputs": [
    {
     "name": "stdout",
     "output_type": "stream",
     "text": [
      "5\n",
      "음표\n",
      "4\n",
      "음표\n",
      "9\n",
      "쉼표\n",
      "2\n",
      "음표\n",
      "1\n",
      "음표\n",
      "4\n",
      "음표\n",
      "6\n",
      "음표\n",
      "6\n",
      "음표\n",
      "9\n",
      "쉼표\n",
      "1\n",
      "음표\n",
      "6\n",
      "음표\n",
      "6\n",
      "음표\n"
     ]
    }
   ],
   "source": [
    "from music21 import *\n",
    "import random\n",
    "\n",
    "random_int_no_again = random.sample(range(60,72),12) #60부터 72 사이에서 12개의 랜덤 수를 뽑아낸다.\n",
    "\n",
    "s1.clear()\n",
    "s1 = stream.Stream();\n",
    "s1.insert(0, metadata.Metadata())\n",
    "s1.metadata.title = '쉼표가 있는 12음주의 음악  '\n",
    "s1.metadata.composer = '온석대학원대학교'\n",
    "\n",
    "for x in random_int_no_again :\n",
    "    note_or_rest = random.randrange(1, 10)\n",
    "    print(note_or_rest)\n",
    "    if note_or_rest<7:\n",
    "        n1 = note.Note(x)\n",
    "        random_length = random.randrange(1, 4) * 0.25\n",
    "        n1.quarterLength=random_length\n",
    "        print(\"음표\")\n",
    "    else:\n",
    "        n1 = note.Rest(x)\n",
    "        random_length = random.randrange(1, 4) * 0.25\n",
    "        n1.quarterLength=random_length\n",
    "        print(\"쉼표\")   \n",
    "\n",
    "    s1.append(n1)   \n"
   ]
  },
  {
   "cell_type": "code",
   "execution_count": 135,
   "id": "1f24bf77",
   "metadata": {},
   "outputs": [
    {
     "data": {
      "image/png": "[encoded data removed]",
      "text/plain": [
       "<IPython.core.display.Image object>"
      ]
     },
     "metadata": {
      "image/png": {
       "height": 160,
       "width": 674
      }
     },
     "output_type": "display_data"
    }
   ],
   "source": [
    "s1.show()"
   ]
  },
  {
   "cell_type": "code",
   "execution_count": 136,
   "id": "6a435466",
   "metadata": {},
   "outputs": [
    {
     "data": {
      "text/html": [
       "\n",
       "                <div id='midiPlayerDiv7604'></div>\n",
       "                <link rel=\"stylesheet\" href=\"//cuthbertLab.github.io/music21j/css/m21.css\"\n",
       "                    type=\"text/css\" />\n",
       "                \n",
       "                <script>\n",
       "                require.config({\n",
       "                    paths: {'music21': '//cuthbertLab.github.io/music21j/src/music21'}\n",
       "                });\n",
       "                require(['music21'], function() {\n",
       "                               mp = new music21.miditools.MidiPlayer();\n",
       "                               mp.addPlayer('#midiPlayerDiv7604');\n",
       "                               mp.base64Load('data:audio/midi;base64,TVRoZAAAAAYAAQACBABNVHJrAAAAFAD/UQMHoSAA/1gEBAIYCIgA/y8ATVRyawAAAGoA/wMAAOAAQIgAkEJahACAQgAAkENaggCAQwCCAJA+WoIAgD4AAJA9WoQAgD0AAJA8WoYAgDwAAJA/WoQAgD8AAJBEWoIAgEQAhgCQQFqEAIBAAACQQVqGAIBBAACQR1qEAIBHAIgA/y8A');\n",
       "                        });\n",
       "                </script>"
      ],
      "text/plain": [
       "<IPython.core.display.HTML object>"
      ]
     },
     "metadata": {},
     "output_type": "display_data"
    }
   ],
   "source": [
    "s1.show('midi')"
   ]
  },
  {
   "cell_type": "code",
   "execution_count": null,
   "id": "530b2a82",
   "metadata": {},
   "outputs": [],
   "source": [
    "위의 코드중 \n",
    "note_or_rest<7: \n",
    "    \n",
    "값 7을 변경 하는것에 따라 음표와 쉼표의 분포도를 바꿀수 있습니다.\n",
    "\n",
    "\n"
   ]
  },
  {
   "cell_type": "code",
   "execution_count": 137,
   "id": "9532a437",
   "metadata": {},
   "outputs": [],
   "source": [
    "#정리된 코드"
   ]
  },
  {
   "cell_type": "code",
   "execution_count": 145,
   "id": "7a1c49b1",
   "metadata": {},
   "outputs": [
    {
     "data": {
      "image/png": "[encoded data removed]",
      "text/plain": [
       "<IPython.core.display.Image object>"
      ]
     },
     "metadata": {
      "image/png": {
       "height": 160,
       "width": 674
      }
     },
     "output_type": "display_data"
    }
   ],
   "source": [
    "from music21 import *\n",
    "import random\n",
    "\n",
    "random_int_no_again = random.sample(range(60,72),12) #60부터 72 사이에서 12개의 랜덤 수를 뽑아낸다.\n",
    "\n",
    "s1.clear()\n",
    "s1 = stream.Stream();\n",
    "s1.insert(0, metadata.Metadata())\n",
    "s1.metadata.title = '쉼표가 있는 12음주의 음악 '\n",
    "s1.metadata.composer = '온석대학원대학교'\n",
    "\n",
    "for x in random_int_no_again :\n",
    "    note_or_rest = random.randrange(1, 10)\n",
    "    if note_or_rest<7:\n",
    "        n1 = note.Note(x)\n",
    "        random_length = random.randrange(1, 4) * 0.25\n",
    "        n1.quarterLength=random_length\n",
    "    else:\n",
    "        n1 = note.Rest(x)\n",
    "        random_length = random.randrange(1, 4) * 0.25\n",
    "        n1.quarterLength=random_length\n",
    "    s1.append(n1)   \n",
    "s1.show()"
   ]
  },
  {
   "cell_type": "code",
   "execution_count": 146,
   "id": "088e1d13",
   "metadata": {},
   "outputs": [
    {
     "data": {
      "text/html": [
       "\n",
       "                <div id='midiPlayerDiv8629'></div>\n",
       "                <link rel=\"stylesheet\" href=\"//cuthbertLab.github.io/music21j/css/m21.css\"\n",
       "                    type=\"text/css\" />\n",
       "                \n",
       "                <script>\n",
       "                require.config({\n",
       "                    paths: {'music21': '//cuthbertLab.github.io/music21j/src/music21'}\n",
       "                });\n",
       "                require(['music21'], function() {\n",
       "                               mp = new music21.miditools.MidiPlayer();\n",
       "                               mp.addPlayer('#midiPlayerDiv8629');\n",
       "                               mp.base64Load('data:audio/midi;base64,TVRoZAAAAAYAAQACBABNVHJrAAAAFAD/UQMHoSAA/1gEBAIYCIgA/y8ATVRyawAAAGoA/wMAAOAAQIgAkEFaggCAQQCEAJA8WoIAgDwAAJA+WoIAgD4AAJBGWoYAgEYAAJA9WoQAgD0AhgCQQFqGAIBAAACQR1qCAIBHAACQRFqEAIBEAACQP1qGAIA/AACQQlqCAIBCAIgA/y8A');\n",
       "                        });\n",
       "                </script>"
      ],
      "text/plain": [
       "<IPython.core.display.HTML object>"
      ]
     },
     "metadata": {},
     "output_type": "display_data"
    }
   ],
   "source": [
    "s1.show('midi')"
   ]
  },
  {
   "cell_type": "code",
   "execution_count": null,
   "id": "5a32e5bf",
   "metadata": {},
   "outputs": [],
   "source": [
    "이제 우리가 표현할 수 있는것은 오선지로 표현 할 수 있게 되었네요\n",
    "\n",
    "파이썬에서 음악을 만들기 위해서는\n",
    "MUSIC21 라이브러리를 사용합니다.\n",
    "\n",
    "선율을 만들기 위해 \n",
    "단일 note들을 \n",
    "선율(stream) 에 추가(append)하게 됩니다.\n",
    "\n",
    "음표(Note)와\n",
    "쉼표(Rest)\n",
    "\n",
    "의 차이점을 알았고\n",
    "\n",
    "quarterLength의 길이가 다를 때 음표의 길이가 달라지는것을 배웠습니다.\n"
   ]
  },
  {
   "cell_type": "code",
   "execution_count": null,
   "id": "e0360300",
   "metadata": {},
   "outputs": [],
   "source": []
  }
 ],
 "metadata": {
  "kernelspec": {
   "display_name": "Python 3 (ipykernel)",
   "language": "python",
   "name": "python3"
  },
  "language_info": {
   "codemirror_mode": {
    "name": "ipython",
    "version": 3
   },
   "file_extension": ".py",
   "mimetype": "text/x-python",
   "name": "python",
   "nbconvert_exporter": "python",
   "pygments_lexer": "ipython3",
   "version": "3.10.4"
  }
 },
 "nbformat": 4,
 "nbformat_minor": 5
}
